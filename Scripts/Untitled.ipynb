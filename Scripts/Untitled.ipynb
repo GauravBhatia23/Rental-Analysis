{
 "cells": [
  {
   "cell_type": "code",
   "execution_count": 1,
   "id": "712c2b8e",
   "metadata": {},
   "outputs": [],
   "source": [
    "#Importing Libraries\n",
    "import pandas as pd\n",
    "import numpy as np\n",
    "import seaborn as sns\n",
    "import matplotlib\n",
    "import matplotlib.pyplot as plt\n",
    "import os\n",
    "import statsmodels.regression.linear_model as sm\n",
    "from statsmodels.regression.linear_model import OLS\n",
    "import statsmodels.api as sm"
   ]
  },
  {
   "cell_type": "code",
   "execution_count": 2,
   "id": "50fe4b74",
   "metadata": {},
   "outputs": [],
   "source": [
    "# Setting the path\n",
    "path = r'C:\\Users\\Bhati\\OneDrive\\Desktop\\CF\\Data Analytics Immersion\\Achievement 6\\25-May-2023 Germany Rent Analysis'"
   ]
  },
  {
   "cell_type": "code",
   "execution_count": 3,
   "id": "6f0d518f",
   "metadata": {},
   "outputs": [],
   "source": [
    "# Importing the final cleaned file\n",
    "df = pd.read_csv(os.path.join(path, '02 Data', 'Prepared Data', 'Cleaned_GermanyRentData_final_additions.csv'))"
   ]
  },
  {
   "cell_type": "code",
   "execution_count": 4,
   "id": "477488cc",
   "metadata": {},
   "outputs": [
    {
     "name": "stdout",
     "output_type": "stream",
     "text": [
      "<class 'pandas.core.frame.DataFrame'>\n",
      "RangeIndex: 146820 entries, 0 to 146819\n",
      "Data columns (total 37 columns):\n",
      " #   Column              Non-Null Count   Dtype  \n",
      "---  ------              --------------   -----  \n",
      " 0   Unnamed: 0.1        146820 non-null  int64  \n",
      " 1   Unnamed: 0          146820 non-null  int64  \n",
      " 2   Maintenance_fee     146820 non-null  float64\n",
      " 3   Heating_type        129593 non-null  object \n",
      " 4   TV_offer            129384 non-null  object \n",
      " 5   Newly_built         146820 non-null  float64\n",
      " 6   Balcony             146820 non-null  float64\n",
      " 7   Picture_count       146820 non-null  int64  \n",
      " 8   Price_trend         145706 non-null  float64\n",
      " 9   Internet_speed      129035 non-null  float64\n",
      " 10  Total_Rent          146820 non-null  float64\n",
      " 11  Year_constructed    146820 non-null  float64\n",
      " 12  Energy_Source       128539 non-null  object \n",
      " 13  Kitchen             146820 non-null  bool   \n",
      " 14  Cellar              146820 non-null  bool   \n",
      " 15  Base_rent           146820 non-null  float64\n",
      " 16  Area(m2)            146820 non-null  float64\n",
      " 17  City                146820 non-null  object \n",
      " 18  House_condition     116212 non-null  object \n",
      " 19  street              146820 non-null  object \n",
      " 20  Lift                146820 non-null  bool   \n",
      " 21  Flat_type           127353 non-null  object \n",
      " 22  Pincode             146820 non-null  int64  \n",
      " 23  Rooms               146820 non-null  float64\n",
      " 24  Floor               146820 non-null  float64\n",
      " 25  Garden              146820 non-null  bool   \n",
      " 26  District            146820 non-null  object \n",
      " 27  City/town           146820 non-null  object \n",
      " 28  date                146820 non-null  object \n",
      " 29  Rent category       146820 non-null  object \n",
      " 30  Apartment category  146820 non-null  object \n",
      " 31  state               146820 non-null  object \n",
      " 32  region              146820 non-null  int64  \n",
      " 33  postal_code         146820 non-null  int64  \n",
      " 34  geometry            146820 non-null  object \n",
      " 35  House_Age           146820 non-null  float64\n",
      " 36  Area_Age            146820 non-null  float64\n",
      "dtypes: bool(4), float64(13), int64(6), object(14)\n",
      "memory usage: 37.5+ MB\n"
     ]
    }
   ],
   "source": [
    "df.info()"
   ]
  },
  {
   "cell_type": "code",
   "execution_count": 5,
   "id": "001adc0e",
   "metadata": {},
   "outputs": [
    {
     "name": "stdout",
     "output_type": "stream",
     "text": [
      "                            OLS Regression Results                            \n",
      "==============================================================================\n",
      "Dep. Variable:             Total_Rent   R-squared:                       0.592\n",
      "Model:                            OLS   Adj. R-squared:                  0.592\n",
      "Method:                 Least Squares   F-statistic:                 7.102e+04\n",
      "Date:                Mon, 07 Aug 2023   Prob (F-statistic):               0.00\n",
      "Time:                        14:58:20   Log-Likelihood:            -1.0560e+06\n",
      "No. Observations:              146820   AIC:                         2.112e+06\n",
      "Df Residuals:                  146816   BIC:                         2.112e+06\n",
      "Df Model:                           3                                         \n",
      "Covariance Type:            nonrobust                                         \n",
      "==============================================================================\n",
      "                 coef    std err          t      P>|t|      [0.025      0.975]\n",
      "------------------------------------------------------------------------------\n",
      "const        -79.9798      3.895    -20.534      0.000     -87.614     -72.346\n",
      "Area(m2)      13.8187      0.046    298.421      0.000      13.728      13.910\n",
      "House_Age     -1.1159      0.058    -19.249      0.000      -1.230      -1.002\n",
      "Area_Age      -0.0138      0.001    -19.980      0.000      -0.015      -0.012\n",
      "==============================================================================\n",
      "Omnibus:                    66308.210   Durbin-Watson:                   0.698\n",
      "Prob(Omnibus):                  0.000   Jarque-Bera (JB):           559410.710\n",
      "Skew:                           1.982   Prob(JB):                         0.00\n",
      "Kurtosis:                      11.702   Cond. No.                     2.34e+04\n",
      "==============================================================================\n",
      "\n",
      "Notes:\n",
      "[1] Standard Errors assume that the covariance matrix of the errors is correctly specified.\n",
      "[2] The condition number is large, 2.34e+04. This might indicate that there are\n",
      "strong multicollinearity or other numerical problems.\n"
     ]
    }
   ],
   "source": [
    "# Add constant to the independent variables\n",
    "X = sm.add_constant(df[[\"Area(m2)\", \"House_Age\", \"Area_Age\"]])\n",
    "\n",
    "# Fit the OLS model\n",
    "mod = sm.OLS(df[\"Total_Rent\"], X)\n",
    "res = mod.fit()\n",
    "\n",
    "# Display the summary of the regression results\n",
    "print(res.summary())\n"
   ]
  },
  {
   "cell_type": "code",
   "execution_count": null,
   "id": "83b6dcc1",
   "metadata": {},
   "outputs": [],
   "source": []
  }
 ],
 "metadata": {
  "kernelspec": {
   "display_name": "Python 3 (ipykernel)",
   "language": "python",
   "name": "python3"
  },
  "language_info": {
   "codemirror_mode": {
    "name": "ipython",
    "version": 3
   },
   "file_extension": ".py",
   "mimetype": "text/x-python",
   "name": "python",
   "nbconvert_exporter": "python",
   "pygments_lexer": "ipython3",
   "version": "3.10.11"
  }
 },
 "nbformat": 4,
 "nbformat_minor": 5
}
